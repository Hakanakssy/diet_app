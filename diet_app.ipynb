{
  "cells": [
    {
      "cell_type": "code",
      "execution_count": null,
      "metadata": {
        "colab": {
          "base_uri": "https://localhost:8080/"
        },
        "id": "76n-hRRLa-YD",
        "outputId": "27054664-912b-44e9-86f9-29c6ebe6c6b7"
      },
      "outputs": [
        {
          "output_type": "stream",
          "name": "stdout",
          "text": [
            "Requirement already satisfied: langchain in /usr/local/lib/python3.10/dist-packages (0.0.329)\n",
            "Requirement already satisfied: PyYAML>=5.3 in /usr/local/lib/python3.10/dist-packages (from langchain) (6.0.1)\n",
            "Requirement already satisfied: SQLAlchemy<3,>=1.4 in /usr/local/lib/python3.10/dist-packages (from langchain) (2.0.22)\n",
            "Requirement already satisfied: aiohttp<4.0.0,>=3.8.3 in /usr/local/lib/python3.10/dist-packages (from langchain) (3.8.6)\n",
            "Requirement already satisfied: anyio<4.0 in /usr/local/lib/python3.10/dist-packages (from langchain) (3.7.1)\n",
            "Requirement already satisfied: async-timeout<5.0.0,>=4.0.0 in /usr/local/lib/python3.10/dist-packages (from langchain) (4.0.3)\n",
            "Requirement already satisfied: dataclasses-json<0.7,>=0.5.7 in /usr/local/lib/python3.10/dist-packages (from langchain) (0.6.1)\n",
            "Requirement already satisfied: jsonpatch<2.0,>=1.33 in /usr/local/lib/python3.10/dist-packages (from langchain) (1.33)\n",
            "Requirement already satisfied: langsmith<0.1.0,>=0.0.52 in /usr/local/lib/python3.10/dist-packages (from langchain) (0.0.56)\n",
            "Requirement already satisfied: numpy<2,>=1 in /usr/local/lib/python3.10/dist-packages (from langchain) (1.23.5)\n",
            "Requirement already satisfied: pydantic<3,>=1 in /usr/local/lib/python3.10/dist-packages (from langchain) (1.10.13)\n",
            "Requirement already satisfied: requests<3,>=2 in /usr/local/lib/python3.10/dist-packages (from langchain) (2.31.0)\n",
            "Requirement already satisfied: tenacity<9.0.0,>=8.1.0 in /usr/local/lib/python3.10/dist-packages (from langchain) (8.2.3)\n",
            "Requirement already satisfied: attrs>=17.3.0 in /usr/local/lib/python3.10/dist-packages (from aiohttp<4.0.0,>=3.8.3->langchain) (23.1.0)\n",
            "Requirement already satisfied: charset-normalizer<4.0,>=2.0 in /usr/local/lib/python3.10/dist-packages (from aiohttp<4.0.0,>=3.8.3->langchain) (3.3.1)\n",
            "Requirement already satisfied: multidict<7.0,>=4.5 in /usr/local/lib/python3.10/dist-packages (from aiohttp<4.0.0,>=3.8.3->langchain) (6.0.4)\n",
            "Requirement already satisfied: yarl<2.0,>=1.0 in /usr/local/lib/python3.10/dist-packages (from aiohttp<4.0.0,>=3.8.3->langchain) (1.9.2)\n",
            "Requirement already satisfied: frozenlist>=1.1.1 in /usr/local/lib/python3.10/dist-packages (from aiohttp<4.0.0,>=3.8.3->langchain) (1.4.0)\n",
            "Requirement already satisfied: aiosignal>=1.1.2 in /usr/local/lib/python3.10/dist-packages (from aiohttp<4.0.0,>=3.8.3->langchain) (1.3.1)\n",
            "Requirement already satisfied: idna>=2.8 in /usr/local/lib/python3.10/dist-packages (from anyio<4.0->langchain) (3.4)\n",
            "Requirement already satisfied: sniffio>=1.1 in /usr/local/lib/python3.10/dist-packages (from anyio<4.0->langchain) (1.3.0)\n",
            "Requirement already satisfied: exceptiongroup in /usr/local/lib/python3.10/dist-packages (from anyio<4.0->langchain) (1.1.3)\n",
            "Requirement already satisfied: marshmallow<4.0.0,>=3.18.0 in /usr/local/lib/python3.10/dist-packages (from dataclasses-json<0.7,>=0.5.7->langchain) (3.20.1)\n",
            "Requirement already satisfied: typing-inspect<1,>=0.4.0 in /usr/local/lib/python3.10/dist-packages (from dataclasses-json<0.7,>=0.5.7->langchain) (0.9.0)\n",
            "Requirement already satisfied: jsonpointer>=1.9 in /usr/local/lib/python3.10/dist-packages (from jsonpatch<2.0,>=1.33->langchain) (2.4)\n",
            "Requirement already satisfied: typing-extensions>=4.2.0 in /usr/local/lib/python3.10/dist-packages (from pydantic<3,>=1->langchain) (4.5.0)\n",
            "Requirement already satisfied: urllib3<3,>=1.21.1 in /usr/local/lib/python3.10/dist-packages (from requests<3,>=2->langchain) (2.0.7)\n",
            "Requirement already satisfied: certifi>=2017.4.17 in /usr/local/lib/python3.10/dist-packages (from requests<3,>=2->langchain) (2023.7.22)\n",
            "Requirement already satisfied: greenlet!=0.4.17 in /usr/local/lib/python3.10/dist-packages (from SQLAlchemy<3,>=1.4->langchain) (3.0.0)\n",
            "Requirement already satisfied: packaging>=17.0 in /usr/local/lib/python3.10/dist-packages (from marshmallow<4.0.0,>=3.18.0->dataclasses-json<0.7,>=0.5.7->langchain) (23.2)\n",
            "Requirement already satisfied: mypy-extensions>=0.3.0 in /usr/local/lib/python3.10/dist-packages (from typing-inspect<1,>=0.4.0->dataclasses-json<0.7,>=0.5.7->langchain) (1.0.0)\n",
            "Requirement already satisfied: python-dotenv in /usr/local/lib/python3.10/dist-packages (1.0.0)\n",
            "Requirement already satisfied: openai in /usr/local/lib/python3.10/dist-packages (0.28.1)\n",
            "Requirement already satisfied: requests>=2.20 in /usr/local/lib/python3.10/dist-packages (from openai) (2.31.0)\n",
            "Requirement already satisfied: tqdm in /usr/local/lib/python3.10/dist-packages (from openai) (4.66.1)\n",
            "Requirement already satisfied: aiohttp in /usr/local/lib/python3.10/dist-packages (from openai) (3.8.6)\n",
            "Requirement already satisfied: charset-normalizer<4,>=2 in /usr/local/lib/python3.10/dist-packages (from requests>=2.20->openai) (3.3.1)\n",
            "Requirement already satisfied: idna<4,>=2.5 in /usr/local/lib/python3.10/dist-packages (from requests>=2.20->openai) (3.4)\n",
            "Requirement already satisfied: urllib3<3,>=1.21.1 in /usr/local/lib/python3.10/dist-packages (from requests>=2.20->openai) (2.0.7)\n",
            "Requirement already satisfied: certifi>=2017.4.17 in /usr/local/lib/python3.10/dist-packages (from requests>=2.20->openai) (2023.7.22)\n",
            "Requirement already satisfied: attrs>=17.3.0 in /usr/local/lib/python3.10/dist-packages (from aiohttp->openai) (23.1.0)\n",
            "Requirement already satisfied: multidict<7.0,>=4.5 in /usr/local/lib/python3.10/dist-packages (from aiohttp->openai) (6.0.4)\n",
            "Requirement already satisfied: async-timeout<5.0,>=4.0.0a3 in /usr/local/lib/python3.10/dist-packages (from aiohttp->openai) (4.0.3)\n",
            "Requirement already satisfied: yarl<2.0,>=1.0 in /usr/local/lib/python3.10/dist-packages (from aiohttp->openai) (1.9.2)\n",
            "Requirement already satisfied: frozenlist>=1.1.1 in /usr/local/lib/python3.10/dist-packages (from aiohttp->openai) (1.4.0)\n",
            "Requirement already satisfied: aiosignal>=1.1.2 in /usr/local/lib/python3.10/dist-packages (from aiohttp->openai) (1.3.1)\n"
          ]
        }
      ],
      "source": [
        "!pip install langchain\n",
        "!pip install python-dotenv\n",
        "!pip install openai"
      ]
    },
    {
      "cell_type": "code",
      "execution_count": null,
      "metadata": {
        "id": "hfwNKOTo2HZi"
      },
      "outputs": [],
      "source": [
        "from dotenv import load_dotenv\n",
        "import dotenv\n",
        "import os\n",
        "from langchain.chat_models import ChatOpenAI\n",
        "from langchain.prompts.chat import HumanMessagePromptTemplate, ChatPromptTemplate\n",
        "from pydantic import BaseModel, Field\n",
        "from langchain.output_parsers import PydanticOutputParser\n",
        "from typing import List"
      ]
    },
    {
      "cell_type": "code",
      "execution_count": null,
      "metadata": {
        "id": "MCRq7ILUa0SZ"
      },
      "outputs": [],
      "source": [
        "class Person(BaseModel):\n",
        "    name: str = Field(description=\"name of the person\")\n",
        "    gender: str = Field(description=\"gender of the person\")\n",
        "    age: int = Field(description=\"age of the person\")\n",
        "    weight: int = Field(description=\"person's weight\")\n",
        "    job: str = Field=(description=\"person' s job\")\n",
        "    basal_meta_rate: int = Field= (description= \" person' s basal metabolic rate\")\n",
        "    allergies: List[str] = Field(description=\"person's allergies\")\n",
        "    diagnosed_diseases: List[str] = Field(description=\"person's diagnosed diseases\")\n",
        "    medications_you_use_regularly: List[str] = Field(description=\"person's medications uses regularly\")\n",
        "    surgeries_you_have_had: List[str] = Field(description=\"person's surgeries that she/he has had\")\n",
        "    diet_goal: str = Field(description=\"person's diet goal\")\n",
        "    week: int = Field(description=\"person's diet time\")"
      ]
    },
    {
      "cell_type": "code",
      "execution_count": null,
      "metadata": {
        "colab": {
          "base_uri": "https://localhost:8080/"
        },
        "id": "FKv7az8Hcg2-",
        "outputId": "9b257541-e839-446f-f0e0-19d85ab9f59e"
      },
      "outputs": [
        {
          "output_type": "stream",
          "name": "stdout",
          "text": [
            "Drive already mounted at /content/drive; to attempt to forcibly remount, call drive.mount(\"/content/drive\", force_remount=True).\n"
          ]
        }
      ],
      "source": [
        "from google.colab import drive\n",
        "drive.mount('/content/drive')"
      ]
    },
    {
      "cell_type": "code",
      "execution_count": null,
      "metadata": {
        "colab": {
          "base_uri": "https://localhost:8080/"
        },
        "id": "-LlM2i1gc-dE",
        "outputId": "512b7d2d-f822-49d3-e6b1-9dacf0f0543e"
      },
      "outputs": [
        {
          "output_type": "execute_result",
          "data": {
            "text/plain": [
              "True"
            ]
          },
          "metadata": {},
          "execution_count": 13
        }
      ],
      "source": [
        "os.chdir(\"/content/drive/MyDrive/colab_notebooks\")\n",
        "os.getcwd()\n",
        "dotenv.load_dotenv('./getenv.env')"
      ]
    },
    {
      "cell_type": "code",
      "execution_count": null,
      "metadata": {
        "id": "a3HkE3nea474"
      },
      "outputs": [],
      "source": [
        "load_dotenv()\n",
        "\n",
        "openai_model = \"gpt-3.5-turbo\"\n",
        "openai_key = os.environ.get(\"openai.api_key\")"
      ]
    },
    {
      "cell_type": "code",
      "execution_count": null,
      "metadata": {
        "id": "uXmlGl1YbQaM"
      },
      "outputs": [],
      "source": [
        "prompt_diet_plan =\"\"\"\n",
        "    Provide me with a {week} week diet plan based on the following personal information.\n",
        "    My gender is {gender} and I'm {age} years old and I weigh {weight} kilograms, I height {height} meter.\n",
        "    Please calculate my BMI(Body-mass index), bmh and total energy cost.\n",
        "    I' am a/an {job} and calculate my Harris-Benedict Standard Activity Factor Score.\n",
        "    !!bmr\n",
        "    My diet goal is to {diet_goal}. Create a daily diet plan for my corrected body mass index in python dictionary format. Days in columns, meals in rows\n",
        "\"\"\""
      ]
    },
    {
      "cell_type": "code",
      "execution_count": null,
      "metadata": {
        "colab": {
          "base_uri": "https://localhost:8080/"
        },
        "id": "P4HtUd6mbRPn",
        "outputId": "9f0e4e1a-36a4-4506-8a81-acddbde8053b"
      },
      "outputs": [
        {
          "output_type": "stream",
          "name": "stdout",
          "text": [
            "Enter your jobstudent\n",
            "Enter your diet goal (e.g., lose weight, gain muscle, maintain): loss weight\n",
            "Enter how many weeks of diet you want:  1\n",
            "Here's your personalized diet program:\n",
            "To calculate your BMI, you can use the following formula:\n",
            "\n",
            "BMI = weight (in kilograms) / (height (in meters) * height (in meters))\n",
            "\n",
            "Let's calculate your BMI:\n",
            "\n",
            "weight = 85 kilograms\n",
            "height = 1.83 meters\n",
            "\n",
            "BMI = 85 / (1.83 * 1.83)\n",
            "BMI = 25.3\n",
            "\n",
            "Now, let's calculate your Basal Metabolic Rate (BMR) using the Harris-Benedict equation:\n",
            "\n",
            "BMR (for men) = 66.5 + (13.75 * weight in kg) + (5 * height in cm) - (6.75 * age in years)\n",
            "\n",
            "height in cm = 1.83 * 100 = 183 cm\n",
            "age = 20 years\n",
            "\n",
            "BMR = 66.5 + (13.75 * 85) + (5 * 183) - (6.75 * 20)\n",
            "BMR = 66.5 + 1168.75 + 915 - 135\n",
            "BMR = 2015.25\n",
            "\n",
            "Now, let's calculate your Total Daily Energy Expenditure (TDEE) by multiplying your BMR with an activity factor. Since you didn't mention your activity level, let's assume it to be moderate (1.55).\n",
            "\n",
            "TDEE = BMR * activity factor\n",
            "TDEE = 2015.25 * 1.55\n",
            "TDEE = 3122.76\n",
            "\n",
            "To lose weight, you need to consume fewer calories than your TDEE. A safe and sustainable weight loss is usually around 0.5-1 kg per week. To achieve this, you can aim for a daily calorie deficit of 500-1000 calories.\n",
            "\n",
            "Now, let's create a 1-week diet plan for you with a daily calorie intake of around 2000 calories:\n",
            "\n",
            "```python\n",
            "diet_plan = {\n",
            "    'Day 1': {\n",
            "        'Breakfast': 'Oatmeal with berries and a cup of green tea',\n",
            "        'Snack 1': 'Greek yogurt with sliced almonds',\n",
            "        'Lunch': 'Grilled chicken breast with brown rice and steamed vegetables',\n",
            "        'Snack 2': 'Carrot sticks with hummus',\n",
            "        'Dinner': 'Salmon with quinoa and roasted asparagus',\n",
            "        'Snack 3': 'Apple slices with peanut butter'\n",
            "    },\n",
            "    'Day 2': {\n",
            "        'Breakfast': 'Scrambled eggs with whole wheat toast and avocado',\n",
            "        'Snack 1': 'Protein shake with mixed berries',\n",
            "        'Lunch': 'Turkey wrap with whole wheat tortilla, lettuce, and tomato',\n",
            "        'Snack 2': 'Mixed nuts',\n",
            "        'Dinner': 'Grilled shrimp with quinoa and sautéed spinach',\n",
            "        'Snack 3': 'Celery sticks with almond butter'\n",
            "    },\n",
            "    'Day 3': {\n",
            "        'Breakfast': 'Whole grain cereal with low-fat milk and sliced banana',\n",
            "        'Snack 1': 'Cottage cheese with pineapple chunks',\n",
            "        'Lunch': 'Vegetable stir-fry with tofu and brown rice',\n",
            "        'Snack 2': 'Hard-boiled eggs',\n",
            "        'Dinner': 'Lean beef with sweet potato and roasted Brussels sprouts',\n",
            "        'Snack 3': 'Berries with Greek yogurt'\n",
            "    },\n",
            "    'Day 4': {\n",
            "        'Breakfast': 'Whole wheat pancakes with fresh fruit and honey',\n",
            "        'Snack 1': 'Protein bar',\n",
            "        'Lunch': 'Grilled chicken salad with mixed greens, tomatoes\n"
          ]
        }
      ],
      "source": [
        "\n",
        "def main():\n",
        "    # setup the chat model\n",
        "    llm = ChatOpenAI(openai_api_key=openai_key, model_name=openai_model)\n",
        "\n",
        "    parser = PydanticOutputParser(pydantic_object=Person)\n",
        "\n",
        "    # Get user input\n",
        "    # name = input(\"Enter your name: \")\n",
        "    gender = input(\"Enter your gender: \")\n",
        "    age = int(input(\"Enter your age: \"))\n",
        "    weight = int(input(\"Enter your weight in kilograms: \"))\n",
        "    height = float(input(\"Enter your height \"))/100\n",
        "    job=input(\"Enter your job\")\n",
        "    # allergies = input(\"Enter your allergies (comma separated): \").split(',')\n",
        "    # diagnosed_diseases = input(\"Enter your diagnosed diseases (comma separated): \").split(',')\n",
        "    # medications_you_use_regularly = input(\"Enter your medications you use regularly (comma separated): \").split(',')\n",
        "    # surgeries_you_have_had = input(\"Enter your surgeries you have had (comma separated): \").split(',')\n",
        "    diet_goal = input(\"Enter your diet goal (e.g., lose weight, gain muscle, maintain): \")\n",
        "    week = input(\"Enter how many weeks of diet you want:  \")\n",
        "\n",
        "    message = HumanMessagePromptTemplate.from_template(template=prompt_diet_plan)\n",
        "    chat_prompt = ChatPromptTemplate.from_messages(messages=[message])\n",
        "    chat_prompt_with_values = chat_prompt.format_prompt(\n",
        "      gender=gender, age=age, weight=weight, height = height, physical_activity= physical_activity,\n",
        "      diet_goal=diet_goal, week=week\n",
        "    )\n",
        "\n",
        "\n",
        "    response = llm(chat_prompt_with_values.to_messages(),max_tokens=750)\n",
        "    diet_program = response.content.strip()\n",
        "    print(f\"Here's your personalized diet program:\")\n",
        "    print(diet_program)\n",
        "\n",
        "if __name__ == \"__main__\":\n",
        "    main()"
      ]
    },
    {
      "cell_type": "code",
      "execution_count": null,
      "metadata": {
        "colab": {
          "base_uri": "https://localhost:8080/"
        },
        "id": "Hq33dRFI8S4X",
        "outputId": "c18c2342-7f6f-40c4-feca-da942e780644"
      },
      "outputs": [
        {
          "name": "stdout",
          "output_type": "stream",
          "text": [
            "Please input your gender \n",
            "male\n",
            "Please enter your age \n",
            "20\n",
            "Please enter weight \n",
            "85\n",
            "enter your height \n",
            "183\n"
          ]
        }
      ],
      "source": [
        "gender = input(\"Please input your gender \\n\")\n",
        "age = int(input(\"Please enter your age \\n\"))\n",
        "weight = int(input(\"Please enter weight \\n\"))\n",
        "height = float(input(\"enter your height \\n\"))/100\n"
      ]
    },
    {
      "cell_type": "markdown",
      "metadata": {
        "id": "x6R0RXQixt7R"
      },
      "source": [
        "BODY MASS İNDEX"
      ]
    },
    {
      "cell_type": "code",
      "execution_count": null,
      "metadata": {
        "colab": {
          "base_uri": "https://localhost:8080/"
        },
        "id": "g70pcltqna8_",
        "outputId": "75b4ca7a-d372-45da-81a9-104a523f51dd"
      },
      "outputs": [
        {
          "output_type": "stream",
          "name": "stdout",
          "text": [
            "25.381468541909282\n"
          ]
        }
      ],
      "source": [
        "bmi = weight/height**2\n",
        "print(bmi)"
      ]
    },
    {
      "cell_type": "markdown",
      "metadata": {
        "id": "4xvVgtVMxn2n"
      },
      "source": [
        "BASAL METABOLİC RATE"
      ]
    },
    {
      "cell_type": "code",
      "execution_count": null,
      "metadata": {
        "colab": {
          "base_uri": "https://localhost:8080/"
        },
        "id": "yS0RiKD0oCUP",
        "outputId": "b27ba6e9-0f63-4efd-ec49-becd7e044183"
      },
      "outputs": [
        {
          "output_type": "stream",
          "name": "stdout",
          "text": [
            "1899\n"
          ]
        }
      ],
      "source": [
        "if gender==\"female\":\n",
        "  bmr = (weight * 10) + (int(height*100) * 6.25) - (age * 5) - 161\n",
        "else:\n",
        "  bmr = (weight * 10) + (int(height*100) * 6.25) - (age * 5) + 5\n",
        "print(int(round(bmr,0)))"
      ]
    },
    {
      "cell_type": "code",
      "execution_count": null,
      "metadata": {
        "id": "295e-mAxGAbr"
      },
      "outputs": [],
      "source": []
    }
  ],
  "metadata": {
    "colab": {
      "provenance": []
    },
    "kernelspec": {
      "display_name": "Python 3",
      "name": "python3"
    },
    "language_info": {
      "name": "python"
    }
  },
  "nbformat": 4,
  "nbformat_minor": 0
}